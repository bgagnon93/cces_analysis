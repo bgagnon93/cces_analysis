{
 "cells": [
  {
   "cell_type": "markdown",
   "metadata": {
    "collapsed": true,
    "pycharm": {
     "name": "#%% md\n"
    }
   },
   "source": [
    "# 2016 Election Analysis by Marriage Status\n"
   ]
  },
  {
   "cell_type": "code",
   "execution_count": 1,
   "outputs": [],
   "source": [
    "import pandas as pd"
   ],
   "metadata": {
    "collapsed": false,
    "pycharm": {
     "name": "#%%\n",
     "is_executing": false
    }
   }
  },
  {
   "cell_type": "code",
   "execution_count": 2,
   "outputs": [
    {
     "name": "stderr",
     "text": [
      "c:\\users\\bgagn\\pycharmprojects\\cces_analysis\\venv\\lib\\site-packages\\IPython\\core\\interactiveshell.py:3063: DtypeWarning: Columns (283,290,464,471) have mixed types.Specify dtype option on import or set low_memory=False.\n",
      "  interactivity=interactivity, compiler=compiler, result=result)\n"
     ],
     "output_type": "stream"
    },
    {
     "data": {
      "text/plain": "   CC18_317  gender  marstat\n0       0.0       2      1.0\n1       0.0       2      1.0\n2       0.0       2      0.0\n3       1.0       2      1.0\n4       1.0       2      1.0",
      "text/html": "<div>\n<style scoped>\n    .dataframe tbody tr th:only-of-type {\n        vertical-align: middle;\n    }\n\n    .dataframe tbody tr th {\n        vertical-align: top;\n    }\n\n    .dataframe thead th {\n        text-align: right;\n    }\n</style>\n<table border=\"1\" class=\"dataframe\">\n  <thead>\n    <tr style=\"text-align: right;\">\n      <th></th>\n      <th>CC18_317</th>\n      <th>gender</th>\n      <th>marstat</th>\n    </tr>\n  </thead>\n  <tbody>\n    <tr>\n      <th>0</th>\n      <td>0.0</td>\n      <td>2</td>\n      <td>1.0</td>\n    </tr>\n    <tr>\n      <th>1</th>\n      <td>0.0</td>\n      <td>2</td>\n      <td>1.0</td>\n    </tr>\n    <tr>\n      <th>2</th>\n      <td>0.0</td>\n      <td>2</td>\n      <td>0.0</td>\n    </tr>\n    <tr>\n      <th>3</th>\n      <td>1.0</td>\n      <td>2</td>\n      <td>1.0</td>\n    </tr>\n    <tr>\n      <th>4</th>\n      <td>1.0</td>\n      <td>2</td>\n      <td>1.0</td>\n    </tr>\n  </tbody>\n</table>\n</div>"
     },
     "metadata": {},
     "output_type": "execute_result",
     "execution_count": 2
    }
   ],
   "source": [
    "# import dataframe\n",
    "df = pd.read_csv(\"cces18_common_vv.csv\")[['CC18_317', 'gender', 'marstat']]\n",
    "\n",
    "# select only rows of survey participants that voted for major party at presidential level. \n",
    "df = df[df['CC18_317'] <= 2.0]\n",
    "\n",
    "# make vote binary\n",
    "df['CC18_317'].replace({1.0: 0, 2.0: 1}, inplace=True)\n",
    "\n",
    "# make marital status binary\n",
    "df['marstat'].replace({2.0: 0, 3.0: 0, 4.0: 0, 5.0: 0, 6.0: 1}, inplace=True)\n",
    "df.head()"
   ],
   "metadata": {
    "collapsed": false,
    "pycharm": {
     "name": "#%%\n",
     "is_executing": false
    }
   }
  },
  {
   "cell_type": "code",
   "execution_count": 8,
   "outputs": [],
   "source": [
    "married_f = df[(df['marstat'] == 1.0) & (df['gender'] == 2)][['CC18_317']]\n",
    "married_m = df[(df['marstat'] == 1.0) & (df['gender'] == 1)][['CC18_317']]\n",
    "\n",
    "unmarried_f = df[(df['marstat'] == 0.0) & (df['gender'] == 2)][['CC18_317']]\n",
    "unmarried_m = df[(df['marstat'] == 0.0) & (df['gender'] == 1)][['CC18_317']]"
   ],
   "metadata": {
    "collapsed": false,
    "pycharm": {
     "name": "#%%\n",
     "is_executing": false
    }
   }
  },
  {
   "cell_type": "code",
   "execution_count": 15,
   "outputs": [
    {
     "name": "stdout",
     "text": [
      "51.91451469278717% of married women voted for Clinton\n",
      "67.34371918753698% of unmarried women voted for Clinton\n",
      "41.691542288557216% of married men voted for Clinton\n",
      "54.843049327354265% of unmarried women voted for Clinton\n"
     ],
     "output_type": "stream"
    }
   ],
   "source": [
    "print(str(married_f[married_f['CC18_317'] == 1.0]['CC18_317'].count() / married_f['CC18_317'].count() * 100) + '% of married women voted for Clinton')\n",
    "print(str(unmarried_f[unmarried_f['CC18_317'] == 1.0]['CC18_317'].count() / unmarried_f['CC18_317'].count() * 100) + '% of unmarried women voted for Clinton')\n",
    "\n",
    "print(str(married_m[married_m['CC18_317'] == 1.0]['CC18_317'].count() / married_m['CC18_317'].count() * 100) + '% of married men voted for Clinton')\n",
    "print(str(unmarried_m[unmarried_m['CC18_317'] == 1.0]['CC18_317'].count() / unmarried_m['CC18_317'].count() * 100) + '% of unmarried men voted for Clinton')\n"
   ],
   "metadata": {
    "collapsed": false,
    "pycharm": {
     "name": "#%%\n",
     "is_executing": false
    }
   }
  }
 ],
 "metadata": {
  "kernelspec": {
   "name": "python3",
   "language": "python",
   "display_name": "Python 3"
  },
  "language_info": {
   "codemirror_mode": {
    "name": "ipython",
    "version": 2
   },
   "file_extension": ".py",
   "mimetype": "text/x-python",
   "name": "python",
   "nbconvert_exporter": "python",
   "pygments_lexer": "ipython2",
   "version": "2.7.6"
  },
  "pycharm": {
   "stem_cell": {
    "cell_type": "raw",
    "source": [],
    "metadata": {
     "collapsed": false
    }
   }
  }
 },
 "nbformat": 4,
 "nbformat_minor": 0
}