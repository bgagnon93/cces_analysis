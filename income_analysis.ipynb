{
 "cells": [
  {
   "cell_type": "markdown",
   "source": [
    "# Election data vs Income\n"
   ],
   "metadata": {
    "collapsed": false
   }
  },
  {
   "cell_type": "code",
   "execution_count": 108,
   "outputs": [],
   "source": [
    "import pandas as pd\n",
    "import matplotlib as mpl\n",
    "import matplotlib.ticker as ticker\n",
    "import matplotlib.pyplot as plt\n",
    "import numpy as np\n",
    "from scipy import stats\n",
    "import seaborn as sns\n",
    "%matplotlib inline "
   ],
   "metadata": {
    "collapsed": false,
    "pycharm": {
     "name": "#%%\n",
     "is_executing": false
    }
   }
  },
  {
   "cell_type": "code",
   "execution_count": 3,
   "outputs": [
    {
     "name": "stderr",
     "text": [
      "c:\\users\\bgagn\\pycharmprojects\\cces_analysis\\venv\\lib\\site-packages\\IPython\\core\\interactiveshell.py:3063: DtypeWarning: Columns (283,290,464,471) have mixed types.Specify dtype option on import or set low_memory=False.\n",
      "  interactivity=interactivity, compiler=compiler, result=result)\n"
     ],
     "output_type": "stream"
    }
   ],
   "source": [
    "df = pd.read_csv(\"cces18_common_vv.csv\")"
   ],
   "metadata": {
    "collapsed": false,
    "pycharm": {
     "name": "#%%\n",
     "is_executing": false
    }
   }
  },
  {
   "cell_type": "code",
   "execution_count": 4,
   "outputs": [
    {
     "data": {
      "text/plain": "     CC18_317\n2.0     21947\n1.0     19313\n3.0      4618\n4.0       398\n5.0       201",
      "text/html": "<div>\n<style scoped>\n    .dataframe tbody tr th:only-of-type {\n        vertical-align: middle;\n    }\n\n    .dataframe tbody tr th {\n        vertical-align: top;\n    }\n\n    .dataframe thead th {\n        text-align: right;\n    }\n</style>\n<table border=\"1\" class=\"dataframe\">\n  <thead>\n    <tr style=\"text-align: right;\">\n      <th></th>\n      <th>CC18_317</th>\n    </tr>\n  </thead>\n  <tbody>\n    <tr>\n      <th>2.0</th>\n      <td>21947</td>\n    </tr>\n    <tr>\n      <th>1.0</th>\n      <td>19313</td>\n    </tr>\n    <tr>\n      <th>3.0</th>\n      <td>4618</td>\n    </tr>\n    <tr>\n      <th>4.0</th>\n      <td>398</td>\n    </tr>\n    <tr>\n      <th>5.0</th>\n      <td>201</td>\n    </tr>\n  </tbody>\n</table>\n</div>"
     },
     "metadata": {},
     "output_type": "execute_result",
     "execution_count": 4
    }
   ],
   "source": [
    "df['CC18_317'].value_counts().to_frame()"
   ],
   "metadata": {
    "collapsed": false,
    "pycharm": {
     "name": "#%%\n",
     "is_executing": false
    }
   }
  },
  {
   "cell_type": "code",
   "execution_count": 5,
   "outputs": [
    {
     "data": {
      "text/plain": "      faminc_new\n1.0         2900\n2.0         4365\n3.0         5843\n4.0         6142\n5.0         5281\n6.0         5243\n7.0         4059\n8.0         4266\n9.0         5068\n10.0        3614\n11.0        3172\n12.0        2082\n13.0         863\n14.0         469\n15.0         176\n16.0         226\n97.0        5892",
      "text/html": "<div>\n<style scoped>\n    .dataframe tbody tr th:only-of-type {\n        vertical-align: middle;\n    }\n\n    .dataframe tbody tr th {\n        vertical-align: top;\n    }\n\n    .dataframe thead th {\n        text-align: right;\n    }\n</style>\n<table border=\"1\" class=\"dataframe\">\n  <thead>\n    <tr style=\"text-align: right;\">\n      <th></th>\n      <th>faminc_new</th>\n    </tr>\n  </thead>\n  <tbody>\n    <tr>\n      <th>1.0</th>\n      <td>2900</td>\n    </tr>\n    <tr>\n      <th>2.0</th>\n      <td>4365</td>\n    </tr>\n    <tr>\n      <th>3.0</th>\n      <td>5843</td>\n    </tr>\n    <tr>\n      <th>4.0</th>\n      <td>6142</td>\n    </tr>\n    <tr>\n      <th>5.0</th>\n      <td>5281</td>\n    </tr>\n    <tr>\n      <th>6.0</th>\n      <td>5243</td>\n    </tr>\n    <tr>\n      <th>7.0</th>\n      <td>4059</td>\n    </tr>\n    <tr>\n      <th>8.0</th>\n      <td>4266</td>\n    </tr>\n    <tr>\n      <th>9.0</th>\n      <td>5068</td>\n    </tr>\n    <tr>\n      <th>10.0</th>\n      <td>3614</td>\n    </tr>\n    <tr>\n      <th>11.0</th>\n      <td>3172</td>\n    </tr>\n    <tr>\n      <th>12.0</th>\n      <td>2082</td>\n    </tr>\n    <tr>\n      <th>13.0</th>\n      <td>863</td>\n    </tr>\n    <tr>\n      <th>14.0</th>\n      <td>469</td>\n    </tr>\n    <tr>\n      <th>15.0</th>\n      <td>176</td>\n    </tr>\n    <tr>\n      <th>16.0</th>\n      <td>226</td>\n    </tr>\n    <tr>\n      <th>97.0</th>\n      <td>5892</td>\n    </tr>\n  </tbody>\n</table>\n</div>"
     },
     "metadata": {},
     "output_type": "execute_result",
     "execution_count": 5
    }
   ],
   "source": [
    "faminc = df['faminc_new'].value_counts().to_frame().sort_index()\n",
    "faminc"
   ],
   "metadata": {
    "collapsed": false,
    "pycharm": {
     "name": "#%%\n",
     "is_executing": false
    }
   }
  },
  {
   "cell_type": "code",
   "execution_count": 36,
   "outputs": [
    {
     "data": {
      "text/plain": "    faminc_new  CC18_317\n1          6.0       1.0\n2          2.0       1.0\n4          4.0       2.0\n8          6.0       1.0\n13         6.0       1.0",
      "text/html": "<div>\n<style scoped>\n    .dataframe tbody tr th:only-of-type {\n        vertical-align: middle;\n    }\n\n    .dataframe tbody tr th {\n        vertical-align: top;\n    }\n\n    .dataframe thead th {\n        text-align: right;\n    }\n</style>\n<table border=\"1\" class=\"dataframe\">\n  <thead>\n    <tr style=\"text-align: right;\">\n      <th></th>\n      <th>faminc_new</th>\n      <th>CC18_317</th>\n    </tr>\n  </thead>\n  <tbody>\n    <tr>\n      <th>1</th>\n      <td>6.0</td>\n      <td>1.0</td>\n    </tr>\n    <tr>\n      <th>2</th>\n      <td>2.0</td>\n      <td>1.0</td>\n    </tr>\n    <tr>\n      <th>4</th>\n      <td>4.0</td>\n      <td>2.0</td>\n    </tr>\n    <tr>\n      <th>8</th>\n      <td>6.0</td>\n      <td>1.0</td>\n    </tr>\n    <tr>\n      <th>13</th>\n      <td>6.0</td>\n      <td>1.0</td>\n    </tr>\n  </tbody>\n</table>\n</div>"
     },
     "metadata": {},
     "output_type": "execute_result",
     "execution_count": 36
    }
   ],
   "source": [
    "rce = df[['race', 'faminc_new', 'CC18_317']]\n",
    "rce = rce[rce['race'] == 1.0].dropna()\n",
    "rce = rce[rce['CC18_317'] <= 2.0]\n",
    "ce = rce[['faminc_new', 'CC18_317']]\n",
    "ce.head(5)"
   ],
   "metadata": {
    "collapsed": false,
    "pycharm": {
     "name": "#%%\n",
     "is_executing": false
    }
   }
  },
  {
   "cell_type": "code",
   "execution_count": 37,
   "outputs": [
    {
     "data": {
      "text/plain": "      Clinton  Trump\n1.0       363    354\n2.0       869    974\n3.0      1194   1424\n4.0      1414   1735\n5.0      1294   1566\n6.0      1295   1567\n7.0      1087   1222\n8.0      1165   1378\n9.0      1466   1655\n10.0     1147   1165\n11.0     1022   1032\n12.0      725    621\n13.0      318    256\n14.0      174    123\n15.0       62     50\n16.0       61     63\n97.0     1376   2041",
      "text/html": "<div>\n<style scoped>\n    .dataframe tbody tr th:only-of-type {\n        vertical-align: middle;\n    }\n\n    .dataframe tbody tr th {\n        vertical-align: top;\n    }\n\n    .dataframe thead th {\n        text-align: right;\n    }\n</style>\n<table border=\"1\" class=\"dataframe\">\n  <thead>\n    <tr style=\"text-align: right;\">\n      <th></th>\n      <th>Clinton</th>\n      <th>Trump</th>\n    </tr>\n  </thead>\n  <tbody>\n    <tr>\n      <th>1.0</th>\n      <td>363</td>\n      <td>354</td>\n    </tr>\n    <tr>\n      <th>2.0</th>\n      <td>869</td>\n      <td>974</td>\n    </tr>\n    <tr>\n      <th>3.0</th>\n      <td>1194</td>\n      <td>1424</td>\n    </tr>\n    <tr>\n      <th>4.0</th>\n      <td>1414</td>\n      <td>1735</td>\n    </tr>\n    <tr>\n      <th>5.0</th>\n      <td>1294</td>\n      <td>1566</td>\n    </tr>\n    <tr>\n      <th>6.0</th>\n      <td>1295</td>\n      <td>1567</td>\n    </tr>\n    <tr>\n      <th>7.0</th>\n      <td>1087</td>\n      <td>1222</td>\n    </tr>\n    <tr>\n      <th>8.0</th>\n      <td>1165</td>\n      <td>1378</td>\n    </tr>\n    <tr>\n      <th>9.0</th>\n      <td>1466</td>\n      <td>1655</td>\n    </tr>\n    <tr>\n      <th>10.0</th>\n      <td>1147</td>\n      <td>1165</td>\n    </tr>\n    <tr>\n      <th>11.0</th>\n      <td>1022</td>\n      <td>1032</td>\n    </tr>\n    <tr>\n      <th>12.0</th>\n      <td>725</td>\n      <td>621</td>\n    </tr>\n    <tr>\n      <th>13.0</th>\n      <td>318</td>\n      <td>256</td>\n    </tr>\n    <tr>\n      <th>14.0</th>\n      <td>174</td>\n      <td>123</td>\n    </tr>\n    <tr>\n      <th>15.0</th>\n      <td>62</td>\n      <td>50</td>\n    </tr>\n    <tr>\n      <th>16.0</th>\n      <td>61</td>\n      <td>63</td>\n    </tr>\n    <tr>\n      <th>97.0</th>\n      <td>1376</td>\n      <td>2041</td>\n    </tr>\n  </tbody>\n</table>\n</div>"
     },
     "metadata": {},
     "output_type": "execute_result",
     "execution_count": 37
    }
   ],
   "source": [
    "# clinton = ce[ce['CC18_317'] == 1.0].drop('CC18_317').astype(int)\n",
    "clinton = ce[ce['CC18_317'] == 2.0]['faminc_new'].value_counts().to_frame().sort_index().astype(int)\n",
    "trump = ce[ce['CC18_317'] == 1.0]['faminc_new'].value_counts().to_frame().sort_index().astype(int)\n",
    "\n",
    "election = pd.DataFrame({'Clinton': clinton['faminc_new'], 'Trump': trump['faminc_new']})\n",
    "election"
   ],
   "metadata": {
    "collapsed": false,
    "pycharm": {
     "name": "#%%\n",
     "is_executing": false
    }
   }
  },
  {
   "cell_type": "code",
   "execution_count": 38,
   "outputs": [
    {
     "data": {
      "text/plain": "<Figure size 432x288 with 1 Axes>",
      "image/png": "[encoded data removed]"
     },
     "metadata": {
      "needs_background": "light"
     },
     "output_type": "display_data"
    }
   ],
   "source": [
    "election.plot.bar()\n",
    "plt.show()\n",
    "\n"
   ],
   "metadata": {
    "collapsed": false,
    "pycharm": {
     "name": "#%%\n",
     "is_executing": false
    }
   }
  },
  {
   "cell_type": "code",
   "execution_count": 94,
   "outputs": [
    {
     "name": "stderr",
     "text": [
      "c:\\users\\bgagn\\pycharmprojects\\cces_analysis\\venv\\lib\\site-packages\\pandas\\core\\frame.py:2963: SettingWithCopyWarning: \n",
      "A value is trying to be set on a copy of a slice from a DataFrame.\n",
      "Try using .loc[row_indexer,col_indexer] = value instead\n",
      "\n",
      "See the caveats in the documentation: https://pandas.pydata.org/pandas-docs/stable/user_guide/indexing.html#returning-a-view-versus-a-copy\n",
      "  self[k1] = value[k2]\n",
      "c:\\users\\bgagn\\pycharmprojects\\cces_analysis\\venv\\lib\\site-packages\\pandas\\core\\generic.py:6746: SettingWithCopyWarning: \n",
      "A value is trying to be set on a copy of a slice from a DataFrame\n",
      "\n",
      "See the caveats in the documentation: https://pandas.pydata.org/pandas-docs/stable/user_guide/indexing.html#returning-a-view-versus-a-copy\n",
      "  self._update_inplace(new_data)\n"
     ],
     "output_type": "stream"
    },
    {
     "data": {
      "text/plain": "       CC18_317     region urbancity  educ  gender             race  birthyr  \\\n0           1.0      South    Suburb     4  Female  Native American     1964   \n1           1.0      South      Town     2  Female            White     1971   \n2           1.0    Midwest      City     3  Female            White     1958   \n3           2.0       West    Suburb     6  Female            Asian     1946   \n4           2.0      South    Suburb     2  Female            White     1972   \n...         ...        ...       ...   ...     ...              ...      ...   \n59995       2.0  Northeast      City     3  Female            White     1993   \n59996       1.0    Midwest      Town     5    Male            White     1982   \n59997       2.0    Midwest      City     3  Female            White     1997   \n59998       1.0       West      City     2  Female            White     1984   \n59999       1.0      South     Rural     3    Male            Mixed     1979   \n\n       faminc_new  pew_religimp  \n0             8.0           2.0  \n1             6.0           1.0  \n2             2.0           1.0  \n3            13.0           2.0  \n4             4.0           2.0  \n...           ...           ...  \n59995         1.0           4.0  \n59996         8.0           1.0  \n59997        13.0           4.0  \n59998         2.0           3.0  \n59999        97.0           3.0  \n\n[60000 rows x 9 columns]",
      "text/html": "<div>\n<style scoped>\n    .dataframe tbody tr th:only-of-type {\n        vertical-align: middle;\n    }\n\n    .dataframe tbody tr th {\n        vertical-align: top;\n    }\n\n    .dataframe thead th {\n        text-align: right;\n    }\n</style>\n<table border=\"1\" class=\"dataframe\">\n  <thead>\n    <tr style=\"text-align: right;\">\n      <th></th>\n      <th>CC18_317</th>\n      <th>region</th>\n      <th>urbancity</th>\n      <th>educ</th>\n      <th>gender</th>\n      <th>race</th>\n      <th>birthyr</th>\n      <th>faminc_new</th>\n      <th>pew_religimp</th>\n    </tr>\n  </thead>\n  <tbody>\n    <tr>\n      <th>0</th>\n      <td>1.0</td>\n      <td>South</td>\n      <td>Suburb</td>\n      <td>4</td>\n      <td>Female</td>\n      <td>Native American</td>\n      <td>1964</td>\n      <td>8.0</td>\n      <td>2.0</td>\n    </tr>\n    <tr>\n      <th>1</th>\n      <td>1.0</td>\n      <td>South</td>\n      <td>Town</td>\n      <td>2</td>\n      <td>Female</td>\n      <td>White</td>\n      <td>1971</td>\n      <td>6.0</td>\n      <td>1.0</td>\n    </tr>\n    <tr>\n      <th>2</th>\n      <td>1.0</td>\n      <td>Midwest</td>\n      <td>City</td>\n      <td>3</td>\n      <td>Female</td>\n      <td>White</td>\n      <td>1958</td>\n      <td>2.0</td>\n      <td>1.0</td>\n    </tr>\n    <tr>\n      <th>3</th>\n      <td>2.0</td>\n      <td>West</td>\n      <td>Suburb</td>\n      <td>6</td>\n      <td>Female</td>\n      <td>Asian</td>\n      <td>1946</td>\n      <td>13.0</td>\n      <td>2.0</td>\n    </tr>\n    <tr>\n      <th>4</th>\n      <td>2.0</td>\n      <td>South</td>\n      <td>Suburb</td>\n      <td>2</td>\n      <td>Female</td>\n      <td>White</td>\n      <td>1972</td>\n      <td>4.0</td>\n      <td>2.0</td>\n    </tr>\n    <tr>\n      <th>...</th>\n      <td>...</td>\n      <td>...</td>\n      <td>...</td>\n      <td>...</td>\n      <td>...</td>\n      <td>...</td>\n      <td>...</td>\n      <td>...</td>\n      <td>...</td>\n    </tr>\n    <tr>\n      <th>59995</th>\n      <td>2.0</td>\n      <td>Northeast</td>\n      <td>City</td>\n      <td>3</td>\n      <td>Female</td>\n      <td>White</td>\n      <td>1993</td>\n      <td>1.0</td>\n      <td>4.0</td>\n    </tr>\n    <tr>\n      <th>59996</th>\n      <td>1.0</td>\n      <td>Midwest</td>\n      <td>Town</td>\n      <td>5</td>\n      <td>Male</td>\n      <td>White</td>\n      <td>1982</td>\n      <td>8.0</td>\n      <td>1.0</td>\n    </tr>\n    <tr>\n      <th>59997</th>\n      <td>2.0</td>\n      <td>Midwest</td>\n      <td>City</td>\n      <td>3</td>\n      <td>Female</td>\n      <td>White</td>\n      <td>1997</td>\n      <td>13.0</td>\n      <td>4.0</td>\n    </tr>\n    <tr>\n      <th>59998</th>\n      <td>1.0</td>\n      <td>West</td>\n      <td>City</td>\n      <td>2</td>\n      <td>Female</td>\n      <td>White</td>\n      <td>1984</td>\n      <td>2.0</td>\n      <td>3.0</td>\n    </tr>\n    <tr>\n      <th>59999</th>\n      <td>1.0</td>\n      <td>South</td>\n      <td>Rural</td>\n      <td>3</td>\n      <td>Male</td>\n      <td>Mixed</td>\n      <td>1979</td>\n      <td>97.0</td>\n      <td>3.0</td>\n    </tr>\n  </tbody>\n</table>\n<p>60000 rows × 9 columns</p>\n</div>"
     },
     "metadata": {},
     "output_type": "execute_result",
     "execution_count": 94
    }
   ],
   "source": [
    "panalysis = df[['CC18_317', 'region', 'urbancity', 'educ', 'gender', 'race', 'birthyr', 'faminc_new', 'pew_religimp']]\n",
    "# panalysis[['CC18_317', 'region', 'gender', 'urbancity', 'race']] = panalysis[['CC18_317', 'region', 'gender', 'urbancity', 'race']].astype(str)\n",
    "panalysis[['region', 'gender', 'urbancity', 'race']] = panalysis[['region', 'gender', 'urbancity', 'race']].astype(str)\n",
    "# panalysis['CC18_317'].replace({'1.0': 'Trump', '2.0': 'Clinton', '3.0': 'Someone else', '4.0': 'Did not vote', '5.0': 'Does not recall'}, inplace=True)\n",
    "# panalysis['CC18_317'].replace({'1.0': 'Trump', '2.0': 'Clinton', '3.0': 'Someone else', '4.0': 'Did not vote', '5.0': 'Does not recall'}, inplace=True)\n",
    "\n",
    "panalysis['region'].replace({'1': 'Northeast', '2': 'Midwest', '3': 'South', '4': 'West'}, inplace=True)\n",
    "panalysis['gender'].replace({'1': 'Male', '2': 'Female'}, inplace=True)\n",
    "panalysis['urbancity'].replace({'1.0': 'City', '2.0': 'Suburb', '3.0': 'Town', '4.0': 'Rural', '5.0': 'Other'}, inplace=True)\n",
    "panalysis['race'].replace({'1': 'White', '2': 'Black', '3': 'Hispanic', '4': 'Asian', '5': 'Native American', '6': 'Mixed', '7': 'Other', '8': 'Middle Eastern'}, inplace=True)\n",
    "\n",
    "panalysis\n",
    "# by_candidate = panalysis.groupby('CC18_317')\n",
    "# by_candidate.groups[\"1.0\"]"
   ],
   "metadata": {
    "collapsed": false,
    "pycharm": {
     "name": "#%%\n",
     "is_executing": false
    }
   }
  },
  {
   "cell_type": "code",
   "execution_count": 143,
   "outputs": [
    {
     "name": "stderr",
     "text": [
      "c:\\users\\bgagn\\pycharmprojects\\cces_analysis\\venv\\lib\\site-packages\\ipykernel_launcher.py:1: UserWarning: Boolean Series key will be reindexed to match DataFrame index.\n",
      "  \"\"\"Entry point for launching an IPython kernel.\n"
     ],
     "output_type": "stream"
    },
    {
     "data": {
      "text/plain": "     birthyr  gender  CC18_317\n0       1923  Female  2.000000\n1       1924    Male  1.000000\n2       1925  Female  1.666667\n3       1925    Male  1.500000\n4       1926  Female  1.000000\n..       ...     ...       ...\n149     1998    Male  1.444444\n150     1999  Female  1.800000\n151     1999    Male  1.272727\n152     2000  Female  1.333333\n153     2000    Male  1.700000\n\n[154 rows x 3 columns]",
      "text/html": "<div>\n<style scoped>\n    .dataframe tbody tr th:only-of-type {\n        vertical-align: middle;\n    }\n\n    .dataframe tbody tr th {\n        vertical-align: top;\n    }\n\n    .dataframe thead th {\n        text-align: right;\n    }\n</style>\n<table border=\"1\" class=\"dataframe\">\n  <thead>\n    <tr style=\"text-align: right;\">\n      <th></th>\n      <th>birthyr</th>\n      <th>gender</th>\n      <th>CC18_317</th>\n    </tr>\n  </thead>\n  <tbody>\n    <tr>\n      <th>0</th>\n      <td>1923</td>\n      <td>Female</td>\n      <td>2.000000</td>\n    </tr>\n    <tr>\n      <th>1</th>\n      <td>1924</td>\n      <td>Male</td>\n      <td>1.000000</td>\n    </tr>\n    <tr>\n      <th>2</th>\n      <td>1925</td>\n      <td>Female</td>\n      <td>1.666667</td>\n    </tr>\n    <tr>\n      <th>3</th>\n      <td>1925</td>\n      <td>Male</td>\n      <td>1.500000</td>\n    </tr>\n    <tr>\n      <th>4</th>\n      <td>1926</td>\n      <td>Female</td>\n      <td>1.000000</td>\n    </tr>\n    <tr>\n      <th>...</th>\n      <td>...</td>\n      <td>...</td>\n      <td>...</td>\n    </tr>\n    <tr>\n      <th>149</th>\n      <td>1998</td>\n      <td>Male</td>\n      <td>1.444444</td>\n    </tr>\n    <tr>\n      <th>150</th>\n      <td>1999</td>\n      <td>Female</td>\n      <td>1.800000</td>\n    </tr>\n    <tr>\n      <th>151</th>\n      <td>1999</td>\n      <td>Male</td>\n      <td>1.272727</td>\n    </tr>\n    <tr>\n      <th>152</th>\n      <td>2000</td>\n      <td>Female</td>\n      <td>1.333333</td>\n    </tr>\n    <tr>\n      <th>153</th>\n      <td>2000</td>\n      <td>Male</td>\n      <td>1.700000</td>\n    </tr>\n  </tbody>\n</table>\n<p>154 rows × 3 columns</p>\n</div>"
     },
     "metadata": {},
     "output_type": "execute_result",
     "execution_count": 143
    }
   ],
   "source": [
    "df_gptest = panalysis[panalysis['CC18_317'] <= 2.0][panalysis['race']=='White'][['birthyr', 'gender', 'CC18_317']]\n",
    "grouped_test1 = df_gptest.groupby(['birthyr', 'gender'], as_index=False).mean()\n",
    "grouped_test1\n",
    "# piv = gptest1.pivot(index='gender', columns='gender')\n",
    "# piv\n",
    "\n",
    "# pearson_coef, p_value = stats.pearsonr(panalysis['birthyr'], panalysis['CC18_317'])\n",
    "# print(\"The Pearson Correlation Coefficient is\", pearson_coef, \" with a P-value of P =\", p_value)  "
   ],
   "metadata": {
    "collapsed": false,
    "pycharm": {
     "name": "#%%\n",
     "is_executing": false
    }
   }
  },
  {
   "cell_type": "code",
   "execution_count": 105,
   "outputs": [
    {
     "data": {
      "text/plain": "         CC18_317           \ngender     Female       Male\ncount   77.000000  77.000000\nmean     1.567282   1.458650\nstd      0.140834   0.128062\nmin      1.000000   1.000000\n25%      1.503401   1.384848\n50%      1.552632   1.441327\n75%      1.677543   1.564885\nmax      2.000000   1.694444",
      "text/html": "<div>\n<style scoped>\n    .dataframe tbody tr th:only-of-type {\n        vertical-align: middle;\n    }\n\n    .dataframe tbody tr th {\n        vertical-align: top;\n    }\n\n    .dataframe thead tr th {\n        text-align: left;\n    }\n</style>\n<table border=\"1\" class=\"dataframe\">\n  <thead>\n    <tr>\n      <th></th>\n      <th colspan=\"2\" halign=\"left\">CC18_317</th>\n    </tr>\n    <tr>\n      <th>gender</th>\n      <th>Female</th>\n      <th>Male</th>\n    </tr>\n  </thead>\n  <tbody>\n    <tr>\n      <th>count</th>\n      <td>77.000000</td>\n      <td>77.000000</td>\n    </tr>\n    <tr>\n      <th>mean</th>\n      <td>1.567282</td>\n      <td>1.458650</td>\n    </tr>\n    <tr>\n      <th>std</th>\n      <td>0.140834</td>\n      <td>0.128062</td>\n    </tr>\n    <tr>\n      <th>min</th>\n      <td>1.000000</td>\n      <td>1.000000</td>\n    </tr>\n    <tr>\n      <th>25%</th>\n      <td>1.503401</td>\n      <td>1.384848</td>\n    </tr>\n    <tr>\n      <th>50%</th>\n      <td>1.552632</td>\n      <td>1.441327</td>\n    </tr>\n    <tr>\n      <th>75%</th>\n      <td>1.677543</td>\n      <td>1.564885</td>\n    </tr>\n    <tr>\n      <th>max</th>\n      <td>2.000000</td>\n      <td>1.694444</td>\n    </tr>\n  </tbody>\n</table>\n</div>"
     },
     "metadata": {},
     "output_type": "execute_result",
     "execution_count": 105
    }
   ],
   "source": [
    "grouped_pivot = grouped_test1.pivot(index='birthyr',columns='gender')\n",
    "grouped_pivot = grouped_pivot.fillna(0) #fill missing values with 0\n",
    "grouped_pivot"
   ],
   "metadata": {
    "collapsed": false,
    "pycharm": {
     "name": "#%%\n",
     "is_executing": false
    }
   }
  },
  {
   "cell_type": "code",
   "execution_count": 106,
   "outputs": [
    {
     "data": {
      "text/plain": "<Figure size 432x288 with 2 Axes>",
      "image/png": "[encoded data removed]"
     },
     "metadata": {
      "needs_background": "light"
     },
     "output_type": "display_data"
    }
   ],
   "source": [
    "plt.pcolor(grouped_pivot, cmap='RdBu')\n",
    "plt.colorbar()\n",
    "plt.show()\n",
    "\n"
   ],
   "metadata": {
    "collapsed": false,
    "pycharm": {
     "name": "#%%\n",
     "is_executing": false
    }
   }
  },
  {
   "cell_type": "code",
   "execution_count": 128,
   "outputs": [
    {
     "data": {
      "text/plain": "<Figure size 432x288 with 2 Axes>",
      "image/png": "[encoded data removed]"
     },
     "metadata": {
      "needs_background": "light"
     },
     "output_type": "display_data"
    }
   ],
   "source": [
    "fig, ax = plt.subplots()\n",
    "im = ax.pcolor(grouped_pivot, cmap='RdBu')\n",
    "\n",
    "#label names\n",
    "row_labels = grouped_pivot.columns.levels[1]\n",
    "col_labels = grouped_pivot.index\n",
    "\n",
    "#move ticks and labels to the center\n",
    "ax.set_xticks(np.arange(grouped_pivot.shape[1]) + 0.5, minor=False)\n",
    "ax.set_yticks(np.arange(grouped_pivot.shape[0])[::5] + 0.5, minor=False)\n",
    "\n",
    "# ax.set_yticks(np.arange(grouped_pivot.shape[0]) + 0.5, minor=False)\n",
    "\n",
    "#insert labels\n",
    "ax.set_xticklabels(row_labels, minor=False)\n",
    "ax.set_yticklabels(col_labels[::5], minor=False)\n",
    "\n",
    "#rotate label if too long\n",
    "plt.xticks(rotation=90)\n",
    "\n",
    "fig.colorbar(im)\n",
    "plt.show()"
   ],
   "metadata": {
    "collapsed": false,
    "pycharm": {
     "name": "#%%\n",
     "is_executing": false
    }
   }
  },
  {
   "cell_type": "code",
   "execution_count": 144,
   "outputs": [
    {
     "name": "stderr",
     "text": [
      "c:\\users\\bgagn\\pycharmprojects\\cces_analysis\\venv\\lib\\site-packages\\ipykernel_launcher.py:1: MatplotlibDeprecationWarning: Adding an axes using the same arguments as a previous axes currently reuses the earlier instance.  In a future version, a new instance will always be created and returned.  Meanwhile, this warning can be suppressed, and the future behavior ensured, by passing a unique label to each axes instance.\n",
      "  \"\"\"Entry point for launching an IPython kernel.\n"
     ],
     "output_type": "stream"
    },
    {
     "data": {
      "text/plain": "<Figure size 432x288 with 1 Axes>",
      "image/png": "[encoded data removed]"
     },
     "metadata": {
      "needs_background": "light"
     },
     "output_type": "display_data"
    }
   ],
   "source": [
    "ax1 = fig.add_subplot(111)\n",
    "male = grouped_test1[grouped_test1['gender'] == 'Male']\n",
    "female = grouped_test1[grouped_test1['gender'] == 'Female']\n",
    "\n",
    "ax = male.plot(kind='scatter', x='birthyr', y='CC18_317', color='blue', label='male')\n",
    "female.plot(kind='scatter', x='birthyr', y='CC18_317', color='pink', label='female', ax=ax)\n",
    "plt.show()\n"
   ],
   "metadata": {
    "collapsed": false,
    "pycharm": {
     "name": "#%%\n",
     "is_executing": false
    }
   }
  },
  {
   "cell_type": "code",
   "execution_count": 145,
   "outputs": [
    {
     "name": "stdout",
     "text": [
      "The Pearson Correlation Coefficient is 0.5768767622038551  with a P-value of P = 4.873596345304504e-15\n"
     ],
     "output_type": "stream"
    }
   ],
   "source": [
    "pearson_coef, p_value = stats.pearsonr(grouped_test1['birthyr'], grouped_test1['CC18_317'])\n",
    "print(\"The Pearson Correlation Coefficient is\", pearson_coef, \" with a P-value of P =\", p_value)  "
   ],
   "metadata": {
    "collapsed": false,
    "pycharm": {
     "name": "#%%\n",
     "is_executing": false
    }
   }
  },
  {
   "cell_type": "code",
   "execution_count": 146,
   "outputs": [
    {
     "name": "stderr",
     "text": [
      "c:\\users\\bgagn\\pycharmprojects\\cces_analysis\\venv\\lib\\site-packages\\pandas\\io\\stata.py:1409: UnicodeWarning: \n",
      "One or more strings in the dta file could not be decoded using utf-8, and\n",
      "so the fallback encoding of latin-1 is being used.  This can happen when a file\n",
      "has been incorrectly encoded by Stata or some other software. You should verify\n",
      "the string values returned are correct.\n",
      "  warnings.warn(msg, UnicodeWarning)\n"
     ],
     "output_type": "stream"
    },
    {
     "data": {
      "text/plain": "                       version  V160001  V160001_orig  V160101  V160101f  \\\n0  ANES2016TimeSeries_20190904      1.0      300001.0   0.8270    0.8877   \n1  ANES2016TimeSeries_20190904      2.0      300002.0   1.0806    1.1605   \n2  ANES2016TimeSeries_20190904      3.0      300003.0   0.3878    0.4161   \n3  ANES2016TimeSeries_20190904      4.0      300004.0   0.3596    0.3852   \n4  ANES2016TimeSeries_20190904      5.0      300006.0   0.6470    0.6931   \n\n   V160101w  V160102  V160102f  V160102w  V160201  ...  \\\n0       0.0   0.8420    0.9271       0.0    121.0  ...   \n1       0.0   1.0133    1.0841       0.0    123.0  ...   \n2       0.0   0.3672    0.3985       0.0    121.0  ...   \n3       0.0   0.3663    0.4183       0.0    118.0  ...   \n4       0.0   0.6463    0.7262       0.0    113.0  ...   \n\n                     V168519    V168520   V168521  \\\n0              Garret Graves    1. Male  -1. Inap   \n1  Stephen A. 'Steve' Womack    1. Male  -1. Inap   \n2     Steven McCarty Palazzo    1. Male  -1. Inap   \n3           Marsha Blackburn  2. Female  -1. Inap   \n4               Bill Johnson    1. Male  -1. Inap   \n\n                                             V168522   V168523  \\\n0  -1. Inap, -4,12,14,21,24,51,52,55 in hse_typerace  -1. Inap   \n1  -1. Inap, -4,12,14,21,24,51,52,55 in hse_typerace  -1. Inap   \n2  -1. Inap, -4,12,14,21,24,51,52,55 in hse_typerace  -1. Inap   \n3  -1. Inap, -4,12,14,21,24,51,52,55 in hse_typerace  -1. Inap   \n4  -1. Inap, -4,12,14,21,24,51,52,55 in hse_typerace  -1. Inap   \n\n                                     V168524   V168525  \\\n0  81. NO RACE IN STATE: DEMOCRATIC GOVERNOR  -1. Inap   \n1  82. NO RACE IN STATE: REPUBLICAN GOVERNOR  -1. Inap   \n2  82. NO RACE IN STATE: REPUBLICAN GOVERNOR  -1. Inap   \n3  82. NO RACE IN STATE: REPUBLICAN GOVERNOR  -1. Inap   \n4  82. NO RACE IN STATE: REPUBLICAN GOVERNOR  -1. Inap   \n\n                                             V168526   V168527  \\\n0  -1. Inap, 23,24,52,62,81,82,83 in gov_typerace...  -1. Inap   \n1  -1. Inap, 23,24,52,62,81,82,83 in gov_typerace...  -1. Inap   \n2  -1. Inap, 23,24,52,62,81,82,83 in gov_typerace...  -1. Inap   \n3  -1. Inap, 23,24,52,62,81,82,83 in gov_typerace...  -1. Inap   \n4  -1. Inap, 23,24,52,62,81,82,83 in gov_typerace...  -1. Inap   \n\n                                             V168528  \n0  -1. Inap, 13,14,51,61,81,82,83 in gov_typerace...  \n1  -1. Inap, 13,14,51,61,81,82,83 in gov_typerace...  \n2  -1. Inap, 13,14,51,61,81,82,83 in gov_typerace...  \n3  -1. Inap, 13,14,51,61,81,82,83 in gov_typerace...  \n4  -1. Inap, 13,14,51,61,81,82,83 in gov_typerace...  \n\n[5 rows x 1842 columns]",
      "text/html": "<div>\n<style scoped>\n    .dataframe tbody tr th:only-of-type {\n        vertical-align: middle;\n    }\n\n    .dataframe tbody tr th {\n        vertical-align: top;\n    }\n\n    .dataframe thead th {\n        text-align: right;\n    }\n</style>\n<table border=\"1\" class=\"dataframe\">\n  <thead>\n    <tr style=\"text-align: right;\">\n      <th></th>\n      <th>version</th>\n      <th>V160001</th>\n      <th>V160001_orig</th>\n      <th>V160101</th>\n      <th>V160101f</th>\n      <th>V160101w</th>\n      <th>V160102</th>\n      <th>V160102f</th>\n      <th>V160102w</th>\n      <th>V160201</th>\n      <th>...</th>\n      <th>V168519</th>\n      <th>V168520</th>\n      <th>V168521</th>\n      <th>V168522</th>\n      <th>V168523</th>\n      <th>V168524</th>\n      <th>V168525</th>\n      <th>V168526</th>\n      <th>V168527</th>\n      <th>V168528</th>\n    </tr>\n  </thead>\n  <tbody>\n    <tr>\n      <th>0</th>\n      <td>ANES2016TimeSeries_20190904</td>\n      <td>1.0</td>\n      <td>300001.0</td>\n      <td>0.8270</td>\n      <td>0.8877</td>\n      <td>0.0</td>\n      <td>0.8420</td>\n      <td>0.9271</td>\n      <td>0.0</td>\n      <td>121.0</td>\n      <td>...</td>\n      <td>Garret Graves</td>\n      <td>1. Male</td>\n      <td>-1. Inap</td>\n      <td>-1. Inap, -4,12,14,21,24,51,52,55 in hse_typerace</td>\n      <td>-1. Inap</td>\n      <td>81. NO RACE IN STATE: DEMOCRATIC GOVERNOR</td>\n      <td>-1. Inap</td>\n      <td>-1. Inap, 23,24,52,62,81,82,83 in gov_typerace...</td>\n      <td>-1. Inap</td>\n      <td>-1. Inap, 13,14,51,61,81,82,83 in gov_typerace...</td>\n    </tr>\n    <tr>\n      <th>1</th>\n      <td>ANES2016TimeSeries_20190904</td>\n      <td>2.0</td>\n      <td>300002.0</td>\n      <td>1.0806</td>\n      <td>1.1605</td>\n      <td>0.0</td>\n      <td>1.0133</td>\n      <td>1.0841</td>\n      <td>0.0</td>\n      <td>123.0</td>\n      <td>...</td>\n      <td>Stephen A. 'Steve' Womack</td>\n      <td>1. Male</td>\n      <td>-1. Inap</td>\n      <td>-1. Inap, -4,12,14,21,24,51,52,55 in hse_typerace</td>\n      <td>-1. Inap</td>\n      <td>82. NO RACE IN STATE: REPUBLICAN GOVERNOR</td>\n      <td>-1. Inap</td>\n      <td>-1. Inap, 23,24,52,62,81,82,83 in gov_typerace...</td>\n      <td>-1. Inap</td>\n      <td>-1. Inap, 13,14,51,61,81,82,83 in gov_typerace...</td>\n    </tr>\n    <tr>\n      <th>2</th>\n      <td>ANES2016TimeSeries_20190904</td>\n      <td>3.0</td>\n      <td>300003.0</td>\n      <td>0.3878</td>\n      <td>0.4161</td>\n      <td>0.0</td>\n      <td>0.3672</td>\n      <td>0.3985</td>\n      <td>0.0</td>\n      <td>121.0</td>\n      <td>...</td>\n      <td>Steven McCarty Palazzo</td>\n      <td>1. Male</td>\n      <td>-1. Inap</td>\n      <td>-1. Inap, -4,12,14,21,24,51,52,55 in hse_typerace</td>\n      <td>-1. Inap</td>\n      <td>82. NO RACE IN STATE: REPUBLICAN GOVERNOR</td>\n      <td>-1. Inap</td>\n      <td>-1. Inap, 23,24,52,62,81,82,83 in gov_typerace...</td>\n      <td>-1. Inap</td>\n      <td>-1. Inap, 13,14,51,61,81,82,83 in gov_typerace...</td>\n    </tr>\n    <tr>\n      <th>3</th>\n      <td>ANES2016TimeSeries_20190904</td>\n      <td>4.0</td>\n      <td>300004.0</td>\n      <td>0.3596</td>\n      <td>0.3852</td>\n      <td>0.0</td>\n      <td>0.3663</td>\n      <td>0.4183</td>\n      <td>0.0</td>\n      <td>118.0</td>\n      <td>...</td>\n      <td>Marsha Blackburn</td>\n      <td>2. Female</td>\n      <td>-1. Inap</td>\n      <td>-1. Inap, -4,12,14,21,24,51,52,55 in hse_typerace</td>\n      <td>-1. Inap</td>\n      <td>82. NO RACE IN STATE: REPUBLICAN GOVERNOR</td>\n      <td>-1. Inap</td>\n      <td>-1. Inap, 23,24,52,62,81,82,83 in gov_typerace...</td>\n      <td>-1. Inap</td>\n      <td>-1. Inap, 13,14,51,61,81,82,83 in gov_typerace...</td>\n    </tr>\n    <tr>\n      <th>4</th>\n      <td>ANES2016TimeSeries_20190904</td>\n      <td>5.0</td>\n      <td>300006.0</td>\n      <td>0.6470</td>\n      <td>0.6931</td>\n      <td>0.0</td>\n      <td>0.6463</td>\n      <td>0.7262</td>\n      <td>0.0</td>\n      <td>113.0</td>\n      <td>...</td>\n      <td>Bill Johnson</td>\n      <td>1. Male</td>\n      <td>-1. Inap</td>\n      <td>-1. Inap, -4,12,14,21,24,51,52,55 in hse_typerace</td>\n      <td>-1. Inap</td>\n      <td>82. NO RACE IN STATE: REPUBLICAN GOVERNOR</td>\n      <td>-1. Inap</td>\n      <td>-1. Inap, 23,24,52,62,81,82,83 in gov_typerace...</td>\n      <td>-1. Inap</td>\n      <td>-1. Inap, 13,14,51,61,81,82,83 in gov_typerace...</td>\n    </tr>\n  </tbody>\n</table>\n<p>5 rows × 1842 columns</p>\n</div>"
     },
     "metadata": {},
     "output_type": "execute_result",
     "execution_count": 146
    }
   ],
   "source": [
    "df = pd.read_stata('anes_timeseries_2016.dta')\n",
    "df.head()"
   ],
   "metadata": {
    "collapsed": false,
    "pycharm": {
     "name": "#%%\n",
     "is_executing": false
    }
   }
  },
  {
   "cell_type": "code",
   "source": [
    "df['race']"
   ],
   "metadata": {
    "collapsed": false,
    "pycharm": {
     "name": "#%% \n"
    }
   },
   "execution_count": null,
   "outputs": []
  }
 ],
 "metadata": {
  "kernelspec": {
   "name": "python3",
   "language": "python",
   "display_name": "Python 3"
  },
  "language_info": {
   "codemirror_mode": {
    "name": "ipython",
    "version": 2
   },
   "file_extension": ".py",
   "mimetype": "text/x-python",
   "name": "python",
   "nbconvert_exporter": "python",
   "pygments_lexer": "ipython2",
   "version": "2.7.6"
  },
  "pycharm": {
   "stem_cell": {
    "cell_type": "raw",
    "source": [],
    "metadata": {
     "collapsed": false
    }
   }
  }
 },
 "nbformat": 4,
 "nbformat_minor": 0
}