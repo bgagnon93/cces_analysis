{
 "cells": [
  {
   "cell_type": "markdown",
   "source": [
    "# Election Analysis by Identity\n",
    "\n",
    "The purpose of this notebook is to experiment with the [CCES 2018 election survey data](https://dataverse.harvard.edu/dataset.xhtml?persistentId=doi%3A10.7910/DVN/ZSBZ7K) of 50,000 respondents. \n",
    "This 'target' of this analysis will be the vote in the 2016 Presidential Election. \n",
    "\n",
    "There are many vectors by which we may break down the results of an election - and nearly as many reasons to do so. In \n",
    "order for parties and candidates to succeed at the polls, they must build a coalition of voters greater than the \n",
    "opposition. To you and I, it may seem obvious how a candidate can appeal to 'us'. What's less obvious is how a candidate\n",
    "appeals to a plurality of individuals who walk across all kinds of intersectionalities. We may study the correlation \n",
    "between intersections of the voter population - while still acknowledging that the individuals in each of them are \n",
    "unique. \n",
    "\n",
    "This notebook will attempt to break down American voters by 'identity', a fluid concept if there ever was one - and an \n",
    "awkward one to put numbers to. Throughout history, arbitrary lines have been drawn between people informed by race, \n",
    "gender, and others - justified by *weak* science that was *misapplied* in the first place. As I am learning - I request \n",
    "all readers to be weary of the conclusions they may draw below below. Information is valuable, but it comes with a great \n",
    "responsibility. It comes with the burden of the conclusions you reach with it. To be sloppy with the context of our \n",
    "conclusions is worse than having none at all. \n",
    "\n",
    "Other notebooks will attempt to break down American Voters by other vectors (such as recent life events, positions on \n",
    "the issues, etc.)\n"
   ],
   "metadata": {
    "collapsed": false
   }
  },
  {
   "cell_type": "code",
   "execution_count": 1,
   "outputs": [],
   "source": [
    "import pandas as pd\n",
    "import statsmodels.api as sm\n",
    "\n",
    "from sklearn.linear_model import LogisticRegression\n",
    "from sklearn.metrics import classification_report\n",
    "from sklearn.model_selection import train_test_split\n",
    "\n",
    "%matplotlib inline "
   ],
   "metadata": {
    "collapsed": false,
    "pycharm": {
     "name": "#%%\n",
     "is_executing": false
    }
   }
  },
  {
   "cell_type": "markdown",
   "source": [
    "All CCES data is stored as either floating point numbers or integers. Nearly all of it is qualitative in nature. \n",
    "From the CCES Data Sheet, the following independent variables are selected:\n",
    " * Region\n",
    " * Urban vs. Rural\n",
    " * Education\n",
    " * Gender\n",
    " * Race\n",
    " * Birth Year\n",
    " * Importance of Religion\n",
    " * Marital Status\n",
    " \n",
    "The target (dependent variable) is also selected:\n",
    " * CC18_317: In the election for U.S. President, who did you vote for?\n",
    "   * 1: Donald Trump\n",
    "   * 2: Hillary Clinton\n",
    "   * 3: Someone else\n",
    "   * 4: I did not cast a vote for president\n",
    "   * 5: I don't recall\n",
    "   \n"
   ],
   "metadata": {
    "collapsed": false,
    "pycharm": {
     "name": "#%%\nmd\n",
     "is_executing": false
    }
   }
  },
  {
   "cell_type": "code",
   "execution_count": 2,
   "outputs": [
    {
     "name": "stderr",
     "text": [
      "c:\\users\\bgagn\\pycharmprojects\\cces_analysis\\venv\\lib\\site-packages\\IPython\\core\\interactiveshell.py:3063: DtypeWarning: Columns (283,290,464,471) have mixed types.Specify dtype option on import or set low_memory=False.\n",
      "  interactivity=interactivity, compiler=compiler, result=result)\n"
     ],
     "output_type": "stream"
    },
    {
     "data": {
      "text/plain": "   CC18_317  region  urbancity  educ  gender  race   age  religion_imp  \\\n0       1.0       3        2.0     4       2     5  1964           2.0   \n1       1.0       3        3.0     2       2     1  1971           1.0   \n2       1.0       2        1.0     3       2     1  1958           1.0   \n3       2.0       4        2.0     6       2     4  1946           2.0   \n4       2.0       3        2.0     2       2     1  1972           2.0   \n\n   marstat  pew_bornagain  \n0      1.0            1.0  \n1      1.0            1.0  \n2      5.0            1.0  \n3      1.0            2.0  \n4      1.0            1.0  ",
      "text/html": "<div>\n<style scoped>\n    .dataframe tbody tr th:only-of-type {\n        vertical-align: middle;\n    }\n\n    .dataframe tbody tr th {\n        vertical-align: top;\n    }\n\n    .dataframe thead th {\n        text-align: right;\n    }\n</style>\n<table border=\"1\" class=\"dataframe\">\n  <thead>\n    <tr style=\"text-align: right;\">\n      <th></th>\n      <th>CC18_317</th>\n      <th>region</th>\n      <th>urbancity</th>\n      <th>educ</th>\n      <th>gender</th>\n      <th>race</th>\n      <th>age</th>\n      <th>religion_imp</th>\n      <th>marstat</th>\n      <th>pew_bornagain</th>\n    </tr>\n  </thead>\n  <tbody>\n    <tr>\n      <th>0</th>\n      <td>1.0</td>\n      <td>3</td>\n      <td>2.0</td>\n      <td>4</td>\n      <td>2</td>\n      <td>5</td>\n      <td>1964</td>\n      <td>2.0</td>\n      <td>1.0</td>\n      <td>1.0</td>\n    </tr>\n    <tr>\n      <th>1</th>\n      <td>1.0</td>\n      <td>3</td>\n      <td>3.0</td>\n      <td>2</td>\n      <td>2</td>\n      <td>1</td>\n      <td>1971</td>\n      <td>1.0</td>\n      <td>1.0</td>\n      <td>1.0</td>\n    </tr>\n    <tr>\n      <th>2</th>\n      <td>1.0</td>\n      <td>2</td>\n      <td>1.0</td>\n      <td>3</td>\n      <td>2</td>\n      <td>1</td>\n      <td>1958</td>\n      <td>1.0</td>\n      <td>5.0</td>\n      <td>1.0</td>\n    </tr>\n    <tr>\n      <th>3</th>\n      <td>2.0</td>\n      <td>4</td>\n      <td>2.0</td>\n      <td>6</td>\n      <td>2</td>\n      <td>4</td>\n      <td>1946</td>\n      <td>2.0</td>\n      <td>1.0</td>\n      <td>2.0</td>\n    </tr>\n    <tr>\n      <th>4</th>\n      <td>2.0</td>\n      <td>3</td>\n      <td>2.0</td>\n      <td>2</td>\n      <td>2</td>\n      <td>1</td>\n      <td>1972</td>\n      <td>2.0</td>\n      <td>1.0</td>\n      <td>1.0</td>\n    </tr>\n  </tbody>\n</table>\n</div>"
     },
     "metadata": {},
     "output_type": "execute_result",
     "execution_count": 2
    }
   ],
   "source": [
    "df = pd.read_csv(\"cces18_common_vv.csv\")[['CC18_317', 'region', 'urbancity', 'educ', 'gender', 'race', 'birthyr', 'pew_religimp', 'marstat', 'pew_bornagain']]\\\n",
    "    .rename(columns={'birthyr': 'age', 'pew_religimp': 'religion_imp'})\n",
    "df.head()"
   ],
   "metadata": {
    "collapsed": false,
    "pycharm": {
     "name": "#%%\n",
     "is_executing": false
    }
   }
  },
  {
   "cell_type": "markdown",
   "source": [
    "This analysis is interested in those that *actually* participated in the election. Those that did not vote are dropped. \n",
    "\n",
    "Though there may be interesting conclusions to draw from those that voted for 'Someone else', they will also be dropped.\n",
    "This spares us from learning Multinomial Logistic Regression. \n",
    "\n",
    "The floating point numbers that indicate who the survey particpant voted for (1.0: Trump 2.0: Clinton) will be changed \n",
    "to integers 0 and 1 (0: Trump, 1: Clinton)."
   ],
   "metadata": {
    "collapsed": false,
    "pycharm": {
     "name": "#%% md\n"
    }
   }
  },
  {
   "cell_type": "code",
   "execution_count": 3,
   "outputs": [],
   "source": [
    "df = df[df['CC18_317'] <= 2.0]\n",
    "df['CC18_317'].replace({1.0: 0, 2.0: 1}, inplace=True)"
   ],
   "metadata": {
    "collapsed": false,
    "pycharm": {
     "name": "#%%\n",
     "is_executing": false
    }
   }
  },
  {
   "cell_type": "markdown",
   "source": [
    "In order to perform qualitative analysis, we will break up each qualitative variable into binary columns for each \n",
    "unique value. For example, the survey breaks the US down into four regions:\n",
    " * 1: Northeast\n",
    " * 2: Midwest\n",
    " * 3: South\n",
    " * 4: West\n",
    " \n",
    "Each region will be assigned a column, and will be filled in with a '1' if the survey participant was from that region. \n",
    "This activity will be performed on the following columns:\n",
    " * Region\n",
    " * Gender\n",
    " * Race\n",
    " * Urban vs. Rural\n",
    " * Marriage Status \n",
    " \n",
    "The CCES survey captured voter's birth year instead of age. Let's also convert the birth years into voter's ages at the \n",
    "time of the survey (+/- 1 year)."
   ],
   "metadata": {
    "collapsed": false,
    "pycharm": {
     "name": "#%% md\n",
     "is_executing": false
    }
   }
  },
  {
   "cell_type": "code",
   "execution_count": 4,
   "outputs": [
    {
     "data": {
      "text/plain": "   CC18_317  educ  gender  age  religion_imp  pew_bornagain  region_Midwest  \\\n0       0.0     4       2   54           2.0            1.0               0   \n1       0.0     2       2   47           1.0            1.0               0   \n2       0.0     3       2   60           1.0            1.0               1   \n3       1.0     6       2   72           2.0            2.0               0   \n4       1.0     2       2   46           2.0            1.0               0   \n\n   region_Northeast  region_South  region_West  ...  urbancity_Other  \\\n0                 0             1            0  ...                0   \n1                 0             1            0  ...                0   \n2                 0             0            0  ...                0   \n3                 0             0            1  ...                0   \n4                 0             1            0  ...                0   \n\n   urbancity_Rural  urbancity_Suburb  urbancity_Town  marstat_Divorced  \\\n0                0                 1               0                 0   \n1                0                 0               1                 0   \n2                0                 0               0                 0   \n3                0                 1               0                 0   \n4                0                 1               0                 0   \n\n   marstat_Domestic Partnership  marstat_Married  marstat_Never married  \\\n0                             0                1                      0   \n1                             0                1                      0   \n2                             0                0                      1   \n3                             0                1                      0   \n4                             0                1                      0   \n\n   marstat_Separated  marstat_Widowed  \n0                  0                0  \n1                  0                0  \n2                  0                0  \n3                  0                0  \n4                  0                0  \n\n[5 rows x 29 columns]",
      "text/html": "<div>\n<style scoped>\n    .dataframe tbody tr th:only-of-type {\n        vertical-align: middle;\n    }\n\n    .dataframe tbody tr th {\n        vertical-align: top;\n    }\n\n    .dataframe thead th {\n        text-align: right;\n    }\n</style>\n<table border=\"1\" class=\"dataframe\">\n  <thead>\n    <tr style=\"text-align: right;\">\n      <th></th>\n      <th>CC18_317</th>\n      <th>educ</th>\n      <th>gender</th>\n      <th>age</th>\n      <th>religion_imp</th>\n      <th>pew_bornagain</th>\n      <th>region_Midwest</th>\n      <th>region_Northeast</th>\n      <th>region_South</th>\n      <th>region_West</th>\n      <th>...</th>\n      <th>urbancity_Other</th>\n      <th>urbancity_Rural</th>\n      <th>urbancity_Suburb</th>\n      <th>urbancity_Town</th>\n      <th>marstat_Divorced</th>\n      <th>marstat_Domestic Partnership</th>\n      <th>marstat_Married</th>\n      <th>marstat_Never married</th>\n      <th>marstat_Separated</th>\n      <th>marstat_Widowed</th>\n    </tr>\n  </thead>\n  <tbody>\n    <tr>\n      <th>0</th>\n      <td>0.0</td>\n      <td>4</td>\n      <td>2</td>\n      <td>54</td>\n      <td>2.0</td>\n      <td>1.0</td>\n      <td>0</td>\n      <td>0</td>\n      <td>1</td>\n      <td>0</td>\n      <td>...</td>\n      <td>0</td>\n      <td>0</td>\n      <td>1</td>\n      <td>0</td>\n      <td>0</td>\n      <td>0</td>\n      <td>1</td>\n      <td>0</td>\n      <td>0</td>\n      <td>0</td>\n    </tr>\n    <tr>\n      <th>1</th>\n      <td>0.0</td>\n      <td>2</td>\n      <td>2</td>\n      <td>47</td>\n      <td>1.0</td>\n      <td>1.0</td>\n      <td>0</td>\n      <td>0</td>\n      <td>1</td>\n      <td>0</td>\n      <td>...</td>\n      <td>0</td>\n      <td>0</td>\n      <td>0</td>\n      <td>1</td>\n      <td>0</td>\n      <td>0</td>\n      <td>1</td>\n      <td>0</td>\n      <td>0</td>\n      <td>0</td>\n    </tr>\n    <tr>\n      <th>2</th>\n      <td>0.0</td>\n      <td>3</td>\n      <td>2</td>\n      <td>60</td>\n      <td>1.0</td>\n      <td>1.0</td>\n      <td>1</td>\n      <td>0</td>\n      <td>0</td>\n      <td>0</td>\n      <td>...</td>\n      <td>0</td>\n      <td>0</td>\n      <td>0</td>\n      <td>0</td>\n      <td>0</td>\n      <td>0</td>\n      <td>0</td>\n      <td>1</td>\n      <td>0</td>\n      <td>0</td>\n    </tr>\n    <tr>\n      <th>3</th>\n      <td>1.0</td>\n      <td>6</td>\n      <td>2</td>\n      <td>72</td>\n      <td>2.0</td>\n      <td>2.0</td>\n      <td>0</td>\n      <td>0</td>\n      <td>0</td>\n      <td>1</td>\n      <td>...</td>\n      <td>0</td>\n      <td>0</td>\n      <td>1</td>\n      <td>0</td>\n      <td>0</td>\n      <td>0</td>\n      <td>1</td>\n      <td>0</td>\n      <td>0</td>\n      <td>0</td>\n    </tr>\n    <tr>\n      <th>4</th>\n      <td>1.0</td>\n      <td>2</td>\n      <td>2</td>\n      <td>46</td>\n      <td>2.0</td>\n      <td>1.0</td>\n      <td>0</td>\n      <td>0</td>\n      <td>1</td>\n      <td>0</td>\n      <td>...</td>\n      <td>0</td>\n      <td>0</td>\n      <td>1</td>\n      <td>0</td>\n      <td>0</td>\n      <td>0</td>\n      <td>1</td>\n      <td>0</td>\n      <td>0</td>\n      <td>0</td>\n    </tr>\n  </tbody>\n</table>\n<p>5 rows × 29 columns</p>\n</div>"
     },
     "metadata": {},
     "output_type": "execute_result",
     "execution_count": 4
    }
   ],
   "source": [
    "df['region'].replace({1: 'Northeast', 2: 'Midwest', 3: 'South', 4: 'West'}, inplace=True)\n",
    "# df['gender'].replace({1: 'Male', 2: 'Female'}, inplace=True)\n",
    "df['race'].replace({1: 'White', 2: 'Black', 3: 'Hispanic', 4: 'Asian', 5: 'Native American', 6: 'Mixed', 7: 'Other', 8: 'Middle Eastern'}, inplace=True)\n",
    "df['urbancity'].replace({1.0: 'City', 2.0: 'Suburb', 3.0: 'Town', 4.0: 'Rural', 5.0: 'Other'}, inplace=True)\n",
    "df['marstat'].replace({1.0: 'Married', 2.0: 'Separated', 3.0: 'Divorced', 4.0: 'Widowed', 5.0: 'Never married', 6.0: 'Domestic Partnership'}, inplace=True)\n",
    "df['age'] = df['age'].apply(lambda x : 2018 - x)\n",
    "\n",
    "data = df\n",
    "category_cols = ['region', 'race', 'urbancity', 'marstat']\n",
    "for category in category_cols:\n",
    "    category_list='var'+'_'+category\n",
    "    category_list = pd.get_dummies(data[category], prefix=category)\n",
    "    data1=data.join(category_list)\n",
    "    data=data1\n",
    "    \n",
    "data_vars=data.columns.values.tolist()\n",
    "to_keep=[i for i in data_vars if i not in category_cols]\n",
    "data_final=data[to_keep]\n",
    "\n",
    "data_final.head()"
   ],
   "metadata": {
    "collapsed": false,
    "pycharm": {
     "name": "#%%\n",
     "is_executing": false
    }
   }
  },
  {
   "cell_type": "code",
   "source": [
    "data_final.isnull().sum()"
   ],
   "metadata": {
    "collapsed": false,
    "pycharm": {
     "name": "#%%\n",
     "is_executing": false
    }
   },
   "execution_count": 5,
   "outputs": [
    {
     "data": {
      "text/plain": "CC18_317                          0\neduc                              0\ngender                            0\nage                               0\nreligion_imp                    120\npew_bornagain                   127\nregion_Midwest                    0\nregion_Northeast                  0\nregion_South                      0\nregion_West                       0\nrace_Asian                        0\nrace_Black                        0\nrace_Hispanic                     0\nrace_Middle Eastern               0\nrace_Mixed                        0\nrace_Native American              0\nrace_Other                        0\nrace_White                        0\nurbancity_City                    0\nurbancity_Other                   0\nurbancity_Rural                   0\nurbancity_Suburb                  0\nurbancity_Town                    0\nmarstat_Divorced                  0\nmarstat_Domestic Partnership      0\nmarstat_Married                   0\nmarstat_Never married             0\nmarstat_Separated                 0\nmarstat_Widowed                   0\ndtype: int64"
     },
     "metadata": {},
     "output_type": "execute_result",
     "execution_count": 5
    }
   ]
  },
  {
   "cell_type": "markdown",
   "source": [
    "Not all survey participants reported the importance of religion. Since this is only 0.3% of voters in the survey, they \n",
    "will be dropped. "
   ],
   "metadata": {
    "collapsed": false,
    "pycharm": {
     "name": "#%% md\n"
    }
   }
  },
  {
   "cell_type": "code",
   "source": [
    "data_final.dropna(inplace=True)"
   ],
   "metadata": {
    "collapsed": false,
    "pycharm": {
     "name": "#%% \n",
     "is_executing": false
    }
   },
   "execution_count": 6,
   "outputs": [
    {
     "name": "stderr",
     "text": [
      "c:\\users\\bgagn\\pycharmprojects\\cces_analysis\\venv\\lib\\site-packages\\ipykernel_launcher.py:1: SettingWithCopyWarning: \n",
      "A value is trying to be set on a copy of a slice from a DataFrame\n",
      "\n",
      "See the caveats in the documentation: https://pandas.pydata.org/pandas-docs/stable/user_guide/indexing.html#returning-a-view-versus-a-copy\n",
      "  \"\"\"Entry point for launching an IPython kernel.\n"
     ],
     "output_type": "stream"
    }
   ]
  },
  {
   "cell_type": "markdown",
   "source": [
    "Pre-processing is complete. \n",
    "\n",
    "# Logistic Regression Model\n",
    "\n",
    "Logistic regression will be used, because the intention is to forecast the probability that an individual 'will' (would \n",
    "have?) vote(d) for one candidate (Clinton) over the other (Trump). \n",
    "\n",
    "First, we should evaluate whether the correlation between all metrics are statistically significant. If not, they should\n",
    "be removed from the model. Other categories should be removed from the set right away. \n"
   ],
   "metadata": {
    "collapsed": false,
    "pycharm": {
     "name": "#%% md\n"
    }
   }
  },
  {
   "cell_type": "code",
   "execution_count": 7,
   "outputs": [
    {
     "name": "stdout",
     "text": [
      "Optimization terminated successfully.\n",
      "         Current function value: 0.516981\n",
      "         Iterations 7\n",
      "                            Results: Logit\n",
      "======================================================================\n",
      "Model:                 Logit             Pseudo R-squared:  0.252     \n",
      "Dependent Variable:    CC18_317          AIC:               42560.4474\n",
      "Date:                  2020-04-05 02:26  BIC:               42758.8041\n",
      "No. Observations:      41118             Log-Likelihood:    -21257.   \n",
      "Df Model:              22                LL-Null:           -28417.   \n",
      "Df Residuals:          41095             LLR p-value:       0.0000    \n",
      "Converged:             1.0000            Scale:             1.0000    \n",
      "No. Iterations:        7.0000                                         \n",
      "----------------------------------------------------------------------\n",
      "                       Coef.  Std.Err.    z     P>|z|   [0.025  0.975]\n",
      "----------------------------------------------------------------------\n",
      "educ                   0.2228   0.0081  27.3778 0.0000  0.2068  0.2387\n",
      "gender                 0.7412   0.0249  29.7157 0.0000  0.6924  0.7901\n",
      "age                   -0.0035   0.0008  -4.3006 0.0000 -0.0051 -0.0019\n",
      "religion_imp           0.5863   0.0121  48.6188 0.0000  0.5626  0.6099\n",
      "race_Asian             0.4501   0.1055   4.2659 0.0000  0.2433  0.6569\n",
      "race_Black             3.0116   0.0890  33.8327 0.0000  2.8371  3.1860\n",
      "race_Hispanic          0.8337   0.0774  10.7703 0.0000  0.6820  0.9854\n",
      "race_Middle Eastern    0.7759   0.3507   2.2121 0.0270  0.0884  1.4633\n",
      "race_White            -0.2108   0.0628  -3.3579 0.0008 -0.3339 -0.0878\n",
      "region_Midwest        -5.0063   0.4453 -11.2428 0.0000 -5.8790 -4.1335\n",
      "region_Northeast      -5.0621   0.4457 -11.3569 0.0000 -5.9357 -4.1885\n",
      "region_South          -5.2417   0.4449 -11.7808 0.0000 -6.1138 -4.3697\n",
      "region_West           -5.1156   0.4455 -11.4841 0.0000 -5.9887 -4.2425\n",
      "urbancity_City         0.9053   0.4288   2.1110 0.0348  0.0648  1.7458\n",
      "urbancity_Other        0.6084   0.4715   1.2904 0.1969 -0.3157  1.5324\n",
      "urbancity_Rural        0.1025   0.4291   0.2390 0.8111 -0.7384  0.9435\n",
      "urbancity_Suburb       0.4745   0.4285   1.1072 0.2682 -0.3654  1.3144\n",
      "urbancity_Town         0.3460   0.4293   0.8059 0.4203 -0.4955  1.1874\n",
      "marstat_Married       -0.2544   0.0345  -7.3648 0.0000 -0.3221 -0.1867\n",
      "marstat_Never married  0.2277   0.0425   5.3604 0.0000  0.1445  0.3110\n",
      "marstat_Separated      0.0478   0.1175   0.4064 0.6845 -0.1826  0.2781\n",
      "marstat_Widowed       -0.1071   0.0591  -1.8142 0.0696 -0.2229  0.0086\n",
      "pew_bornagain          0.9518   0.0324  29.4119 0.0000  0.8884  1.0152\n",
      "======================================================================\n",
      "\n"
     ],
     "output_type": "stream"
    }
   ],
   "source": [
    "X_p_coef = data_final[['educ', 'gender', 'age', 'religion_imp', 'race_Asian', 'race_Black', 'race_Hispanic', 'race_Middle Eastern', 'race_White', 'region_Midwest', 'region_Northeast', 'region_South', 'region_West', 'urbancity_City', 'urbancity_Other', 'urbancity_Rural', 'urbancity_Suburb', 'urbancity_Town', 'marstat_Married', 'marstat_Never married', 'marstat_Separated', 'marstat_Widowed', 'pew_bornagain']]\n",
    "y_p_coef = data_final['CC18_317']\n",
    "logit_model=sm.Logit(y_p_coef,X_p_coef)\n",
    "result=logit_model.fit()\n",
    "print(result.summary2())\n"
   ],
   "metadata": {
    "collapsed": false,
    "pycharm": {
     "name": "#%%\n",
     "is_executing": false
    }
   }
  },
  {
   "cell_type": "markdown",
   "source": [
    "A number of components are removed from the model that were not statistically significant. "
   ],
   "metadata": {
    "collapsed": false,
    "pycharm": {
     "name": "#%% md\n",
     "is_executing": false
    }
   }
  },
  {
   "cell_type": "code",
   "execution_count": 8,
   "outputs": [
    {
     "name": "stdout",
     "text": [
      "Optimization terminated successfully.\n",
      "         Current function value: 0.517729\n",
      "         Iterations 7\n",
      "                         Results: Logit\n",
      "=================================================================\n",
      "Model:              Logit            Pseudo R-squared: 0.251     \n",
      "Dependent Variable: CC18_317         AIC:              42607.9940\n",
      "Date:               2020-04-05 02:26 BIC:              42745.9812\n",
      "No. Observations:   41118            Log-Likelihood:   -21288.   \n",
      "Df Model:           15               LL-Null:          -28417.   \n",
      "Df Residuals:       41102            LLR p-value:      0.0000    \n",
      "Converged:          1.0000           Scale:            1.0000    \n",
      "No. Iterations:     7.0000                                       \n",
      "-----------------------------------------------------------------\n",
      "                  Coef.  Std.Err.    z     P>|z|   [0.025  0.975]\n",
      "-----------------------------------------------------------------\n",
      "educ              0.2254   0.0081  27.7415 0.0000  0.2095  0.2413\n",
      "gender            0.7177   0.0247  29.1119 0.0000  0.6694  0.7660\n",
      "age              -0.0059   0.0007  -7.9803 0.0000 -0.0073 -0.0044\n",
      "religion_imp      0.5855   0.0120  48.6438 0.0000  0.5619  0.6091\n",
      "race_Asian        0.4420   0.1046   4.2236 0.0000  0.2369  0.6471\n",
      "race_Black        3.0080   0.0881  34.1377 0.0000  2.8353  3.1807\n",
      "race_Hispanic     0.8069   0.0764  10.5582 0.0000  0.6571  0.9567\n",
      "race_White       -0.2393   0.0616  -3.8816 0.0001 -0.3601 -0.1185\n",
      "region_Midwest   -4.3172   0.1096 -39.3808 0.0000 -4.5321 -4.1024\n",
      "region_Northeast -4.3708   0.1115 -39.2018 0.0000 -4.5893 -4.1523\n",
      "region_South     -4.5510   0.1082 -42.0635 0.0000 -4.7630 -4.3389\n",
      "region_West      -4.4247   0.1107 -39.9717 0.0000 -4.6417 -4.2078\n",
      "urbancity_City    0.4651   0.0289  16.0854 0.0000  0.4084  0.5218\n",
      "urbancity_Rural  -0.3423   0.0319 -10.7308 0.0000 -0.4048 -0.2798\n",
      "marstat_Married  -0.3389   0.0246 -13.7771 0.0000 -0.3871 -0.2907\n",
      "pew_bornagain     0.9635   0.0323  29.8296 0.0000  0.9002  1.0268\n",
      "=================================================================\n",
      "\n"
     ],
     "output_type": "stream"
    }
   ],
   "source": [
    "X = data_final[['educ', 'gender', 'age', 'religion_imp', 'race_Asian', 'race_Black', 'race_Hispanic', 'race_White', 'region_Midwest', 'region_Northeast', 'region_South', 'region_West', 'urbancity_City', 'urbancity_Rural', 'marstat_Married', 'pew_bornagain']]\n",
    "y = data_final['CC18_317']\n",
    "logit_model=sm.Logit(y, X)\n",
    "result=logit_model.fit()\n",
    "print(result.summary2())"
   ],
   "metadata": {
    "collapsed": false,
    "pycharm": {
     "name": "#%%\n",
     "is_executing": false
    }
   }
  },
  {
   "cell_type": "markdown",
   "source": [
    "Much better - now all dependent variables have a p coefficient less than 0.005, and we can be more confident in the \n",
    "statistical significance of the model. \n",
    "\n",
    "Before committing to our model, it must be tested for overfitting. the data will be split into two data sets. One set will train the model, the other will test it to ensure the \n",
    "generated logistic model does not over fit the data. 70% of the data will be used to train the model, and 30% will be\n",
    "used for testing in order to ensure the model does not overfit the data."
   ],
   "metadata": {
    "collapsed": false,
    "pycharm": {
     "name": "#%% md\n"
    }
   }
  },
  {
   "cell_type": "code",
   "execution_count": 9,
   "outputs": [
    {
     "name": "stdout",
     "text": [
      "Training matrix:\n",
      "              precision    recall  f1-score   support\n",
      "\n",
      "         0.0       0.73      0.72      0.72     13489\n",
      "         1.0       0.76      0.77      0.76     15293\n",
      "\n",
      "    accuracy                           0.74     28782\n",
      "   macro avg       0.74      0.74      0.74     28782\n",
      "weighted avg       0.74      0.74      0.74     28782\n",
      "\n",
      "Testing matrix:\n",
      "              precision    recall  f1-score   support\n",
      "\n",
      "         0.0       0.73      0.71      0.72      5760\n",
      "         1.0       0.75      0.77      0.76      6576\n",
      "\n",
      "    accuracy                           0.74     12336\n",
      "   macro avg       0.74      0.74      0.74     12336\n",
      "weighted avg       0.74      0.74      0.74     12336\n",
      "\n"
     ],
     "output_type": "stream"
    },
    {
     "name": "stderr",
     "text": [
      "c:\\users\\bgagn\\pycharmprojects\\cces_analysis\\venv\\lib\\site-packages\\sklearn\\linear_model\\_logistic.py:940: ConvergenceWarning: lbfgs failed to converge (status=1):\n",
      "STOP: TOTAL NO. of ITERATIONS REACHED LIMIT.\n",
      "\n",
      "Increase the number of iterations (max_iter) or scale the data as shown in:\n",
      "    https://scikit-learn.org/stable/modules/preprocessing.html\n",
      "Please also refer to the documentation for alternative solver options:\n",
      "    https://scikit-learn.org/stable/modules/linear_model.html#logistic-regression\n",
      "  extra_warning_msg=_LOGISTIC_SOLVER_CONVERGENCE_MSG)\n"
     ],
     "output_type": "stream"
    }
   ],
   "source": [
    "X_train, X_test, y_train, y_test = train_test_split(X, y, test_size=0.3, random_state=0)\n",
    "\n",
    "lr_train = LogisticRegression()\n",
    "lr_train.fit(X_train, y_train)\n",
    "\n",
    "print('Training matrix:')\n",
    "print(classification_report(y_train, lr_train.predict(X_train)))\n",
    "\n",
    "print('Testing matrix:')\n",
    "print(classification_report(y_test, lr_train.predict(X_test)))"
   ],
   "metadata": {
    "collapsed": false,
    "pycharm": {
     "name": "#%% \n",
     "is_executing": false
    }
   }
  },
  {
   "cell_type": "markdown",
   "source": [
    "The model achieves 74% accuracy on both the training, and the testing. This demonstrates that the model is *NOT* \n",
    "overfitting.\n",
    "\n",
    "The model will now be generated with all the data:"
   ],
   "metadata": {
    "collapsed": false
   }
  },
  {
   "cell_type": "code",
   "execution_count": 10,
   "outputs": [
    {
     "name": "stderr",
     "text": [
      "c:\\users\\bgagn\\pycharmprojects\\cces_analysis\\venv\\lib\\site-packages\\sklearn\\linear_model\\_logistic.py:940: ConvergenceWarning: lbfgs failed to converge (status=1):\n",
      "STOP: TOTAL NO. of ITERATIONS REACHED LIMIT.\n",
      "\n",
      "Increase the number of iterations (max_iter) or scale the data as shown in:\n",
      "    https://scikit-learn.org/stable/modules/preprocessing.html\n",
      "Please also refer to the documentation for alternative solver options:\n",
      "    https://scikit-learn.org/stable/modules/linear_model.html#logistic-regression\n",
      "  extra_warning_msg=_LOGISTIC_SOLVER_CONVERGENCE_MSG)\n"
     ],
     "output_type": "stream"
    },
    {
     "data": {
      "text/plain": "LogisticRegression(C=1.0, class_weight=None, dual=False, fit_intercept=True,\n                   intercept_scaling=1, l1_ratio=None, max_iter=100,\n                   multi_class='auto', n_jobs=None, penalty='l2',\n                   random_state=None, solver='lbfgs', tol=0.0001, verbose=0,\n                   warm_start=False)"
     },
     "metadata": {},
     "output_type": "execute_result",
     "execution_count": 10
    }
   ],
   "source": [
    "lr = LogisticRegression()\n",
    "lr.fit(X, y)"
   ],
   "metadata": {
    "collapsed": false,
    "pycharm": {
     "name": "#%%\n",
     "is_executing": false
    }
   }
  },
  {
   "cell_type": "markdown",
   "source": [
    "In order to visualize the accuracy of the model, it would be nice to have a histogram showing how often predictions are \n",
    "correct. Let's construct a histogram that captures the difference between the probability (floating point between 0 and \n",
    "1) and the result (binary 0 or 1):\n"
   ],
   "metadata": {
    "collapsed": false
   }
  },
  {
   "cell_type": "code",
   "execution_count": 31,
   "outputs": [],
   "source": [
    "def plot_prediction(X, y):\n",
    "    lr = LogisticRegression(max_iter=10000)\n",
    "    lr.fit(X, y)\n",
    "    \n",
    "    pFrame = pd.DataFrame(lr.predict_proba(X))\n",
    "    pFrame['CC18_317'] = pd.DataFrame(y).reset_index()['CC18_317']\n",
    "    pFrame['Diff'] = abs(pFrame['CC18_317'] - pFrame[1])\n",
    "    pFrame['Diff'].plot(kind='hist', bins = 50)\n",
    "    \n",
    "    print('The model correctly identifies which presidential candidate an individual will support ' + \n",
    "          str(int(lr.score(X, y) * 100)) + '% of the time.')\n",
    "    print('average mean: ' + str(pFrame['Diff'].mean()))\n",
    "    \n",
    "    print(str(pFrame[1].mean() * 100) + '% voted for Hillary Clinton in 2016')\n",
    "    print(str(pFrame[0].mean() * 100) + '% voted for Donald Trump in 2016')"
   ],
   "metadata": {
    "collapsed": false,
    "pycharm": {
     "name": "#%%\n",
     "is_executing": false
    }
   }
  },
  {
   "cell_type": "code",
   "execution_count": 32,
   "outputs": [
    {
     "name": "stdout",
     "text": [
      "The model correctly identifies which presidential candidate an individual will support 74% of the time.\n",
      "average mean: 0.3442782822562197\n",
      "53.186522773819945% voted for Hillary Clinton in 2016\n",
      "46.81347722618005% voted for Donald Trump in 2016\n"
     ],
     "output_type": "stream"
    },
    {
     "data": {
      "text/plain": "<Figure size 432x288 with 1 Axes>",
      "image/png": "[encoded data removed]"
     },
     "metadata": {
      "needs_background": "light"
     },
     "output_type": "display_data"
    }
   ],
   "source": [
    "plot_prediction(X, y)"
   ],
   "metadata": {
    "collapsed": false,
    "pycharm": {
     "name": "#%%\n",
     "is_executing": false
    }
   }
  },
  {
   "cell_type": "markdown",
   "source": [
    "The most surprising outcome (to me) is how much *uncertainty* there is when looking at the voting preferences of all \n",
    "Americans. On average, knowing someone's age, race, gender, educational attainment, and the importance they place in \n",
    "religion does *not* make it obvious which candidate that individual supported in the 2016 election. \n",
    "\n",
    "The model correctly identifies who an individual supported in the election 3/4 times. \n",
    "\n",
    "This is not the end of the analysis, though. The histogram shows the uncertainty in preferences of all voters - but are \n",
    "there groups that the model can more accurately predict than others?\n",
    "\n",
    "**NOTE: Voting groups are not monolithic. The below will discuss voting groups that are more highly correlated with the \n",
    "outcome of the 2016 election than the general electorate. To draw further (socio-political) conclusions may likely say\n",
    "more about the reader than the real world.**\n",
    "\n",
    "## Black Voters"
   ],
   "metadata": {
    "collapsed": false
   }
  },
  {
   "cell_type": "code",
   "execution_count": 33,
   "outputs": [
    {
     "name": "stdout",
     "text": [
      "The model correctly identifies which presidential candidate an individual will support 91% of the time.\n",
      "average mean: 0.14266341427043297\n",
      "91.90267876334921% voted for Hillary Clinton in 2016\n",
      "8.097321236650792% voted for Donald Trump in 2016\n"
     ],
     "output_type": "stream"
    },
    {
     "data": {
      "text/plain": "<Figure size 432x288 with 1 Axes>",
      "image/png": "[encoded data removed]"
     },
     "metadata": {
      "needs_background": "light"
     },
     "output_type": "display_data"
    }
   ],
   "source": [
    "X_black_voters = X[X['race_Black']==1]\n",
    "y_black_voters = data_final[data_final['race_Black']==1]['CC18_317']\n",
    "\n",
    "plot_prediction(X_black_voters, y_black_voters)"
   ],
   "metadata": {
    "collapsed": false,
    "pycharm": {
     "name": "#%%\n",
     "is_executing": false
    }
   }
  },
  {
   "cell_type": "markdown",
   "source": [
    "## Evangelical Voters"
   ],
   "metadata": {
    "collapsed": false
   }
  },
  {
   "cell_type": "code",
   "execution_count": 34,
   "outputs": [
    {
     "name": "stdout",
     "text": [
      "The model correctly identifies which presidential candidate an individual will support 82% of the time.\n",
      "average mean: 0.26378954906016344\n",
      "29.765947558593055% voted for Hillary Clinton in 2016\n",
      "70.23405244140694% voted for Donald Trump in 2016\n"
     ],
     "output_type": "stream"
    },
    {
     "data": {
      "text/plain": "<Figure size 432x288 with 1 Axes>",
      "image/png": "[encoded data removed]"
     },
     "metadata": {
      "needs_background": "light"
     },
     "output_type": "display_data"
    }
   ],
   "source": [
    "X_evangelical_voters = X[X['pew_bornagain']==1]\n",
    "y_evangelical_voters = data_final[data_final['pew_bornagain']==1]['CC18_317']\n",
    "\n",
    "plot_prediction(X_evangelical_voters, y_evangelical_voters)"
   ],
   "metadata": {
    "collapsed": false,
    "pycharm": {
     "name": "#%%\n",
     "is_executing": false
    }
   }
  },
  {
   "cell_type": "markdown",
   "source": [
    "Are there voters we may be *less* certain about than average? \n",
    "\n",
    "## Non-Evangelical White Americans"
   ],
   "metadata": {
    "collapsed": false
   }
  },
  {
   "cell_type": "code",
   "execution_count": 35,
   "outputs": [
    {
     "name": "stderr",
     "text": [
      "c:\\users\\bgagn\\pycharmprojects\\cces_analysis\\venv\\lib\\site-packages\\ipykernel_launcher.py:1: UserWarning: Boolean Series key will be reindexed to match DataFrame index.\n",
      "  \"\"\"Entry point for launching an IPython kernel.\n",
      "c:\\users\\bgagn\\pycharmprojects\\cces_analysis\\venv\\lib\\site-packages\\ipykernel_launcher.py:2: UserWarning: Boolean Series key will be reindexed to match DataFrame index.\n",
      "  \n"
     ],
     "output_type": "stream"
    },
    {
     "name": "stdout",
     "text": [
      "The model correctly identifies which presidential candidate an individual will support 68% of the time.\n",
      "average mean: 0.3970420245760974\n",
      "57.691325832796814% voted for Hillary Clinton in 2016\n",
      "42.30867416720319% voted for Donald Trump in 2016\n"
     ],
     "output_type": "stream"
    },
    {
     "data": {
      "text/plain": "<Figure size 432x288 with 1 Axes>",
      "image/png": "[encoded data removed]"
     },
     "metadata": {
      "needs_background": "light"
     },
     "output_type": "display_data"
    }
   ],
   "source": [
    "X_white_voters = X[X['race_White']==1][X['pew_bornagain']==2]\n",
    "y_white_voters = data_final[data_final['race_White']==1][X['pew_bornagain']==2]['CC18_317']\n",
    "\n",
    "plot_prediction(X_white_voters, y_white_voters)\n"
   ],
   "metadata": {
    "collapsed": false,
    "pycharm": {
     "name": "#%%\n",
     "is_executing": false
    }
   }
  },
  {
   "cell_type": "markdown",
   "source": [
    "## People like me"
   ],
   "metadata": {
    "collapsed": false
   }
  },
  {
   "cell_type": "code",
   "execution_count": 36,
   "outputs": [
    {
     "name": "stdout",
     "text": [
      "The model correctly identifies which presidential candidate an individual will support 78% of the time.\n",
      "average mean: 0.305900708415555\n",
      "68.30033164774662% voted for Hillary Clinton in 2016\n",
      "31.699668352253386% voted for Donald Trump in 2016\n"
     ],
     "output_type": "stream"
    },
    {
     "name": "stderr",
     "text": [
      "c:\\users\\bgagn\\pycharmprojects\\cces_analysis\\venv\\lib\\site-packages\\ipykernel_launcher.py:1: UserWarning: Boolean Series key will be reindexed to match DataFrame index.\n",
      "  \"\"\"Entry point for launching an IPython kernel.\n",
      "c:\\users\\bgagn\\pycharmprojects\\cces_analysis\\venv\\lib\\site-packages\\ipykernel_launcher.py:2: UserWarning: Boolean Series key will be reindexed to match DataFrame index.\n",
      "  \n"
     ],
     "output_type": "stream"
    },
    {
     "data": {
      "text/plain": "<Figure size 432x288 with 1 Axes>",
      "image/png": "[encoded data removed]"
     },
     "metadata": {
      "needs_background": "light"
     },
     "output_type": "display_data"
    }
   ],
   "source": [
    "X_me_voters = X[X['race_White']==1][X['educ']==5][X['age']>20][X['age']<30]\n",
    "y_me_voters = data_final[X['race_White']==1][X['educ']==5][X['age']>20][X['age']<30]['CC18_317']\n",
    "\n",
    "plot_prediction(X_me_voters, y_me_voters)"
   ],
   "metadata": {
    "collapsed": false,
    "pycharm": {
     "name": "#%%\n",
     "is_executing": false
    }
   }
  },
  {
   "cell_type": "code",
   "execution_count": null,
   "outputs": [],
   "source": [],
   "metadata": {
    "collapsed": false,
    "pycharm": {
     "name": "#%%\n"
    }
   }
  },
  {
   "cell_type": "code",
   "execution_count": null,
   "outputs": [],
   "source": [
    "\n"
   ],
   "metadata": {
    "collapsed": false,
    "pycharm": {
     "name": "#%%\n"
    }
   }
  }
 ],
 "metadata": {
  "kernelspec": {
   "name": "python3",
   "language": "python",
   "display_name": "Python 3"
  },
  "language_info": {
   "codemirror_mode": {
    "name": "ipython",
    "version": 2
   },
   "file_extension": ".py",
   "mimetype": "text/x-python",
   "name": "python",
   "nbconvert_exporter": "python",
   "pygments_lexer": "ipython2",
   "version": "2.7.6"
  },
  "pycharm": {
   "stem_cell": {
    "cell_type": "raw",
    "source": [],
    "metadata": {
     "collapsed": false
    }
   }
  }
 },
 "nbformat": 4,
 "nbformat_minor": 0
}